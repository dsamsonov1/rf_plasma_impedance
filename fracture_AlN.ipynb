{
 "cells": [
  {
   "cell_type": "code",
   "execution_count": 74,
   "id": "5e4225b5",
   "metadata": {},
   "outputs": [
    {
     "data": {
      "image/png": "[encoded data removed]",
      "text/plain": [
       "<Figure size 432x288 with 1 Axes>"
      ]
     },
     "metadata": {
      "needs_background": "light"
     },
     "output_type": "display_data"
    }
   ],
   "source": [
    "import decimal as dcm\n",
    "import numpy as np\n",
    "import matplotlib.pyplot as plt\n",
    "\n",
    "decimal.getcontext().prec = 10\n",
    "\n",
    "A_ast = dcm.Decimal(1.5e-4) # m/s\n",
    "sigma_0 = dcm.Decimal(310.0e6) # MPa\n",
    "m = dcm.Decimal(15.3) # weib\n",
    "K_lc = dcm.Decimal(3.2)\n",
    "n = dcm.Decimal(135.0)\n",
    "Y = dcm.Decimal(2)\n",
    "B = 2*K_lc**2/((n-2)*A_ast*Y**2)\n",
    "\n",
    "sigma = np.arange(200e6, 300e6, 5e6)\n",
    "out = []\n",
    "for i in sigma:\n",
    "    tf = B*sigma_0**(n-2)*dcm.Decimal(i)**(-n)\n",
    "    #print(f'{i} - {tf}')\n",
    "    out.append(tf)\n",
    "    \n",
    "plt.loglog(sigma/1e6, out)\n",
    "plt.grid(axis='x', color='0.95')\n",
    "plt.grid(axis='y', color='0.95')\n"
   ]
  },
  {
   "cell_type": "code",
   "execution_count": 76,
   "id": "3851e3cd-db45-4949-8a3d-ba45dcb24d6b",
   "metadata": {},
   "outputs": [
    {
     "name": "stdout",
     "output_type": "stream",
     "text": [
      "1.2750684588179293\n"
     ]
    }
   ],
   "source": [
    "import numpy\n",
    "print(1.13*2/numpy.sqrt(numpy.pi))"
   ]
  },
  {
   "cell_type": "code",
   "execution_count": null,
   "id": "42f2fbfb-6499-4929-9817-d44f4610c6f9",
   "metadata": {},
   "outputs": [],
   "source": []
  },
  {
   "cell_type": "code",
   "execution_count": null,
   "id": "6f9bd592-a19e-45b5-9dd7-c97b3d04fe9e",
   "metadata": {},
   "outputs": [],
   "source": []
  },
  {
   "cell_type": "code",
   "execution_count": null,
   "id": "b94af79c-eb3d-4fa0-8e25-a7b2252ecf3e",
   "metadata": {},
   "outputs": [],
   "source": []
  },
  {
   "cell_type": "code",
   "execution_count": null,
   "id": "7fe97e40-c4c0-415a-9af9-4c85c922e15e",
   "metadata": {},
   "outputs": [],
   "source": []
  },
  {
   "cell_type": "code",
   "execution_count": null,
   "id": "7126443a-145b-4098-9ebe-e9520387d2b4",
   "metadata": {},
   "outputs": [],
   "source": []
  },
  {
   "cell_type": "code",
   "execution_count": null,
   "id": "654a74e4-5ad6-40ee-b7d4-75a71f23041b",
   "metadata": {},
   "outputs": [],
   "source": []
  },
  {
   "cell_type": "code",
   "execution_count": null,
   "id": "4ecf9edc-caed-4491-b385-32f41e6c4cb2",
   "metadata": {},
   "outputs": [],
   "source": []
  }
 ],
 "metadata": {
  "kernelspec": {
   "display_name": "Python 3 (ipykernel)",
   "language": "python",
   "name": "python3"
  },
  "language_info": {
   "codemirror_mode": {
    "name": "ipython",
    "version": 3
   },
   "file_extension": ".py",
   "mimetype": "text/x-python",
   "name": "python",
   "nbconvert_exporter": "python",
   "pygments_lexer": "ipython3",
   "version": "3.9.12"
  }
 },
 "nbformat": 4,
 "nbformat_minor": 5
}
